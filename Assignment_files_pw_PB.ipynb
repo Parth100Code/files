{
  "cells": [
    {
      "cell_type": "code",
      "source": [
        "# Theoritical Quesetions and Answers"
      ],
      "metadata": {
        "id": "caRgB-I9lA2R"
      },
      "execution_count": null,
      "outputs": []
    },
    {
      "cell_type": "markdown",
      "source": [
        "1. **Difference between Interpreted and Compiled Languages**  \n",
        "   Interpreted languages execute code line by line during runtime, making them slower but easier to debug (e.g., Python). Compiled languages, like C++, translate code into machine language before execution, offering faster performance. The choice between the two depends on the application’s needs.\n",
        "\n",
        "2. **Exception Handling in Python**  \n",
        "   Exception handling in Python is done using `try`, `except`, and related blocks to catch and manage errors during runtime. It ensures the program continues running even when unexpected conditions arise. This improves reliability and user experience in applications.\n",
        "\n",
        "3. **Purpose of the `finally` Block**  \n",
        "   The `finally` block ensures a piece of code runs regardless of whether an exception occurred or not. It is often used for cleanup operations like closing files or releasing resources. This guarantees that necessary final actions are always performed.\n",
        "\n",
        "4. **Logging in Python**  \n",
        "   Logging in Python provides a way to track events and debug applications without disrupting user experience. The `logging` module records messages of different levels, such as errors or warnings. This helps monitor program behavior and identify issues effectively.\n",
        "\n",
        "5. **Significance of `__del__` Method**  \n",
        "   The `__del__` method is a destructor called when an object is garbage collected. It allows developers to define cleanup actions, like releasing resources or closing connections. This ensures efficient memory management and resource utilization.\n",
        "\n",
        "6. **Difference Between `import` and `from ... import`**  \n",
        "   The `import` statement loads an entire module, allowing access to all its functions and variables. On the other hand, `from ... import` imports specific components, reducing namespace clutter. This approach is often used for concise and focused imports.\n",
        "\n",
        "7. **Handling Multiple Exceptions**  \n",
        "   Python allows handling multiple exceptions using a tuple in `except` or separate `except` blocks. This approach ensures that different types of exceptions are managed appropriately. It provides flexibility and detailed error control in the program.\n",
        "\n",
        "8. **Purpose of the `with` Statement**  \n",
        "   The `with` statement simplifies file handling by ensuring that files are automatically closed after use. It manages resources efficiently, reducing the risk of errors like leaving files open. This makes code cleaner and more reliable.\n",
        "\n",
        "9. **Difference Between Multithreading and Multiprocessing**  \n",
        "   Multithreading involves multiple threads within a single process, sharing memory and suitable for I/O-bound tasks. Multiprocessing creates separate processes with their own memory, ideal for CPU-intensive tasks. Multiprocessing offers better performance for computationally heavy workloads.\n",
        "\n",
        "10. **Advantages of Using Logging**  \n",
        "    Logging allows developers to monitor application behavior and identify issues without halting the program. It provides structured information through log levels like `INFO` or `ERROR`. This helps in debugging, auditing, and maintaining software reliability.\n",
        "\n",
        "11. **Memory Management in Python**  \n",
        "    Python uses automatic memory management through garbage collection to reclaim unused objects. This simplifies development by reducing the need for manual memory handling. Developers can also manually manage resources for specific needs.\n",
        "\n",
        "12. **Steps in Exception Handling**  \n",
        "    Exception handling involves placing risky code inside a `try` block and catching specific errors with `except`. Additional blocks like `else` handle cases where no exception occurs, and `finally` ensures cleanup. This approach prevents crashes and keeps programs running smoothly.\n",
        "\n",
        "13. **Importance of Memory Management**  \n",
        "    Proper memory management ensures efficient use of system resources, preventing memory leaks and crashes. It is especially important for long-running programs or those handling large datasets. Python’s automated garbage collection aids in this process.\n",
        "\n",
        "14. **Role of `try` and `except`**  \n",
        "    The `try` block contains code that might raise exceptions, while `except` handles those exceptions gracefully. Together, they prevent abrupt program termination and allow alternative logic to be executed. This ensures robust error management in applications.\n",
        "\n",
        "15. **Python's Garbage Collection System**  \n",
        "    Python’s garbage collection system automatically deallocates memory of unused objects using reference counting. It also employs a cyclic garbage collector to handle circular references. This process optimizes memory usage and prevents leaks.\n",
        "\n",
        "16. **Purpose of the `else` Block**  \n",
        "    The `else` block in exception handling executes when the `try` block succeeds without exceptions. It helps separate normal execution logic from error-handling code. This enhances code clarity and maintainability.\n",
        "\n",
        "17. **Common Logging Levels**  \n",
        "    Python’s `logging` module offers levels like `DEBUG`, `INFO`, `WARNING`, `ERROR`, and `CRITICAL`. These levels indicate the severity of events being logged. Developers can filter logs based on importance for better debugging and monitoring.\n",
        "\n",
        "18. **Difference Between `os.fork()` and `multiprocessing`**  \n",
        "    `os.fork()` creates a child process on UNIX systems, directly duplicating the parent process. The `multiprocessing` module, however, is platform-independent and provides high-level APIs for process management. It is more versatile and easier to use than `os.fork()`.\n",
        "\n",
        "19. **Importance of Closing a File**  \n",
        "    Closing a file ensures that all resources are released and any pending changes are saved. This prevents issues like file corruption or memory leaks. Using `with` automatically handles file closure efficiently.\n",
        "\n",
        "20. **Difference Between `file.read()` and `file.readline()`**  \n",
        "    The `file.read()` method reads the entire file or a specified number of bytes at once. In contrast, `file.readline()` reads a single line at a time, making it suitable for large files. This distinction helps manage memory effectively during file operations.\n",
        "\n",
        "21. **Logging Module Usage**  \n",
        "    The `logging` module is used to record program events like errors, warnings, or system information. It supports different output formats and levels for better debugging and analysis. This module simplifies tracking and maintaining application behavior.\n",
        "\n",
        "22. **Purpose of the `os` Module**  \n",
        "    The `os` module provides functions for interacting with the operating system, such as handling files and directories. It supports operations like renaming, deleting, or listing files. This makes it essential for file and system-level tasks in Python.\n",
        "\n",
        "23. **Challenges in Memory Management**  \n",
        "    Memory management challenges include handling circular references, avoiding memory leaks, and managing large datasets. Python’s garbage collection alleviates some issues but requires careful coding for efficient resource use. Developers may need to use manual techniques for specific cases.\n",
        "\n",
        "24. **Manually Raising Exceptions**  \n",
        "    Developers can manually raise exceptions in Python using the `raise` keyword. For example, `raise ValueError(\"Invalid input!\")` explicitly generates an error. This allows custom error handling for specific conditions.\n",
        "\n",
        "25. **Importance of Multithreading**  \n",
        "    Multithreading improves program performance by enabling concurrent task execution, particularly for I/O-bound operations. It ensures responsiveness in applications like GUIs or web servers. By utilizing multiple threads, programs can handle multiple tasks efficiently."
      ],
      "metadata": {
        "id": "x3ALzVJ2mg6K"
      }
    },
    {
      "cell_type": "code",
      "source": [
        "#Practical Questions and Answers"
      ],
      "metadata": {
        "id": "kXWKkfbtmsLx"
      },
      "execution_count": null,
      "outputs": []
    },
    {
      "cell_type": "code",
      "source": [
        "#1. Open a file for writing in Python and write a string to it\n",
        "with open(\"example.txt\", \"w\") as file:\n",
        "    file.write(\"This is a test string.\")\n"
      ],
      "metadata": {
        "id": "kO-0T9gjmwmr"
      },
      "execution_count": null,
      "outputs": []
    },
    {
      "cell_type": "code",
      "source": [
        " #2 Read the contents of a file and print each line\n",
        "with open(\"example.txt\", \"r\") as file:\n",
        "    for line in file:\n",
        "        print(line.strip())"
      ],
      "metadata": {
        "id": "RPzloZmdnycH",
        "outputId": "9a953ca0-729e-4fa9-aeda-6a4c30bb71f9",
        "colab": {
          "base_uri": "https://localhost:8080/"
        }
      },
      "execution_count": null,
      "outputs": [
        {
          "output_type": "stream",
          "name": "stdout",
          "text": [
            "This is a test string.\n"
          ]
        }
      ]
    },
    {
      "cell_type": "code",
      "source": [
        "#3. Handle a case where the file doesn't exist while trying to open it for reading\n",
        "try:\n",
        "    with open(\"nonexistent_file.txt\", \"r\") as file:\n",
        "        print(file.read())\n",
        "except FileNotFoundError:\n",
        "    print(\"The file does not exist.\")\n"
      ],
      "metadata": {
        "id": "3og_QJEnnyef",
        "outputId": "07aca50d-0355-46f4-fa2f-b9a213c14fd3",
        "colab": {
          "base_uri": "https://localhost:8080/"
        }
      },
      "execution_count": null,
      "outputs": [
        {
          "output_type": "stream",
          "name": "stdout",
          "text": [
            "The file does not exist.\n"
          ]
        }
      ]
    },
    {
      "cell_type": "code",
      "source": [
        "#4. Read from one file and write its content to another file\n",
        "with open(\"source.txt\", \"r\") as src, open(\"destination.txt\", \"w\") as dest:\n",
        "    for line in src:\n",
        "        dest.write(line)\n"
      ],
      "metadata": {
        "collapsed": true,
        "id": "2sLnTVnOnyhT",
        "outputId": "32f517c6-74ce-438f-ecd8-69428f494dfb",
        "colab": {
          "base_uri": "https://localhost:8080/",
          "height": 198
        }
      },
      "execution_count": null,
      "outputs": [
        {
          "output_type": "error",
          "ename": "FileNotFoundError",
          "evalue": "[Errno 2] No such file or directory: 'source.txt'",
          "traceback": [
            "\u001b[0;31m---------------------------------------------------------------------------\u001b[0m",
            "\u001b[0;31mFileNotFoundError\u001b[0m                         Traceback (most recent call last)",
            "\u001b[0;32m<ipython-input-8-012320336e53>\u001b[0m in \u001b[0;36m<cell line: 2>\u001b[0;34m()\u001b[0m\n\u001b[1;32m      1\u001b[0m \u001b[0;31m#4. Read from one file and write its content to another file\u001b[0m\u001b[0;34m\u001b[0m\u001b[0;34m\u001b[0m\u001b[0m\n\u001b[0;32m----> 2\u001b[0;31m \u001b[0;32mwith\u001b[0m \u001b[0mopen\u001b[0m\u001b[0;34m(\u001b[0m\u001b[0;34m\"source.txt\"\u001b[0m\u001b[0;34m,\u001b[0m \u001b[0;34m\"r\"\u001b[0m\u001b[0;34m)\u001b[0m \u001b[0;32mas\u001b[0m \u001b[0msrc\u001b[0m\u001b[0;34m,\u001b[0m \u001b[0mopen\u001b[0m\u001b[0;34m(\u001b[0m\u001b[0;34m\"destination.txt\"\u001b[0m\u001b[0;34m,\u001b[0m \u001b[0;34m\"w\"\u001b[0m\u001b[0;34m)\u001b[0m \u001b[0;32mas\u001b[0m \u001b[0mdest\u001b[0m\u001b[0;34m:\u001b[0m\u001b[0;34m\u001b[0m\u001b[0;34m\u001b[0m\u001b[0m\n\u001b[0m\u001b[1;32m      3\u001b[0m     \u001b[0;32mfor\u001b[0m \u001b[0mline\u001b[0m \u001b[0;32min\u001b[0m \u001b[0msrc\u001b[0m\u001b[0;34m:\u001b[0m\u001b[0;34m\u001b[0m\u001b[0;34m\u001b[0m\u001b[0m\n\u001b[1;32m      4\u001b[0m         \u001b[0mdest\u001b[0m\u001b[0;34m.\u001b[0m\u001b[0mwrite\u001b[0m\u001b[0;34m(\u001b[0m\u001b[0mline\u001b[0m\u001b[0;34m)\u001b[0m\u001b[0;34m\u001b[0m\u001b[0;34m\u001b[0m\u001b[0m\n",
            "\u001b[0;31mFileNotFoundError\u001b[0m: [Errno 2] No such file or directory: 'source.txt'"
          ]
        }
      ]
    },
    {
      "cell_type": "code",
      "source": [
        "#5. Catch and handle a division by zero error\n",
        "try:\n",
        "    result = 10 / 0\n",
        "except ZeroDivisionError:\n",
        "    print(\"Cannot divide by zero.\")\n"
      ],
      "metadata": {
        "id": "_3sBEqdQnyjb",
        "outputId": "4eb05164-bf81-48d9-ba6a-bde64936c364",
        "colab": {
          "base_uri": "https://localhost:8080/"
        }
      },
      "execution_count": null,
      "outputs": [
        {
          "output_type": "stream",
          "name": "stdout",
          "text": [
            "Cannot divide by zero.\n"
          ]
        }
      ]
    },
    {
      "cell_type": "code",
      "source": [
        "#6. Log an error message to a log file when a division by zero occurs\n",
        "import logging\n",
        "\n",
        "logging.basicConfig(filename=\"error.log\", level=logging.ERROR)\n",
        "\n",
        "try:\n",
        "    result = 10 / 0\n",
        "except ZeroDivisionError:\n",
        "    logging.error(\"Attempted division by zero.\")\n"
      ],
      "metadata": {
        "id": "ahyWaDLlnyl_",
        "outputId": "3b69bcef-c20d-47b3-ee81-b3dcb30bd553",
        "colab": {
          "base_uri": "https://localhost:8080/"
        }
      },
      "execution_count": null,
      "outputs": [
        {
          "output_type": "stream",
          "name": "stderr",
          "text": [
            "ERROR:root:Attempted division by zero.\n"
          ]
        }
      ]
    },
    {
      "cell_type": "code",
      "source": [
        "# 7. Log information at different levels using the logging module\n",
        "import logging\n",
        "\n",
        "logging.basicConfig(level=logging.INFO)\n",
        "\n",
        "logging.info(\"This is an info message.\")\n",
        "logging.warning(\"This is a warning message.\")\n",
        "logging.error(\"This is an error message.\")\n"
      ],
      "metadata": {
        "id": "hrLiLPg_nyoX",
        "outputId": "f3ba215f-a2cb-4789-ebbf-49ab5eed7429",
        "colab": {
          "base_uri": "https://localhost:8080/"
        }
      },
      "execution_count": null,
      "outputs": [
        {
          "output_type": "stream",
          "name": "stderr",
          "text": [
            "WARNING:root:This is a warning message.\n",
            "ERROR:root:This is an error message.\n"
          ]
        }
      ]
    },
    {
      "cell_type": "code",
      "source": [
        "#8. Handle a file opening error using exception handling\n",
        "try:\n",
        "    with open(\"nonexistent_file.txt\", \"r\") as file:\n",
        "        content = file.read()\n",
        "except FileNotFoundError:\n",
        "    print(\"Failed to open the file.\")\n"
      ],
      "metadata": {
        "id": "peCHeU1tnytH",
        "outputId": "c24019de-aab8-48f4-c371-6863269f9302",
        "colab": {
          "base_uri": "https://localhost:8080/"
        }
      },
      "execution_count": null,
      "outputs": [
        {
          "output_type": "stream",
          "name": "stdout",
          "text": [
            "Failed to open the file.\n"
          ]
        }
      ]
    },
    {
      "cell_type": "code",
      "source": [
        "#9. Read a file line by line and store its content in a list\n",
        "with open(\"example.txt\", \"r\") as file:\n",
        "    lines = [line.strip() for line in file]\n",
        "print(lines)\n"
      ],
      "metadata": {
        "id": "7KW0_kjCnyvX",
        "outputId": "234baa27-7f54-4640-dd84-7c8738afa7df",
        "colab": {
          "base_uri": "https://localhost:8080/"
        }
      },
      "execution_count": null,
      "outputs": [
        {
          "output_type": "stream",
          "name": "stdout",
          "text": [
            "['This is a test string.']\n"
          ]
        }
      ]
    },
    {
      "cell_type": "code",
      "source": [
        "#10. Append data to an existing file\n",
        "with open(\"example.txt\", \"a\") as file:\n",
        "    file.write(\"\\nAppending new data.\")\n"
      ],
      "metadata": {
        "id": "Oy4Ed8Mqnyxd"
      },
      "execution_count": null,
      "outputs": []
    },
    {
      "cell_type": "code",
      "source": [
        "# 11 How can you handle an error when attempting to access a non-existing dictionary key?\n",
        "\n",
        "data = {\"key1\": \"value1\"}\n",
        "\n",
        "try:\n",
        "    print(data[\"key2\"])\n",
        "except KeyError:\n",
        "    print(\"Key does not exist in the dictionary.\")\n"
      ],
      "metadata": {
        "id": "Vd5wQEYonyz2",
        "outputId": "281e0ed5-1d2f-461a-88e3-c427b98f9b8c",
        "colab": {
          "base_uri": "https://localhost:8080/"
        }
      },
      "execution_count": null,
      "outputs": [
        {
          "output_type": "stream",
          "name": "stdout",
          "text": [
            "Key does not exist in the dictionary.\n"
          ]
        }
      ]
    },
    {
      "cell_type": "code",
      "source": [
        "# 12 Write a program that demonstrates using multiple except blocks to handle different types of exceptions.\n",
        "\n",
        "try:\n",
        "    result = 10 / 0\n",
        "    data = {\"key1\": \"value1\"}[\"key2\"]\n",
        "except ZeroDivisionError:\n",
        "    print(\"Division by zero error.\")\n",
        "except KeyError:\n",
        "    print(\"Key error.\")\n"
      ],
      "metadata": {
        "id": "ZoecJq1Bny8r",
        "outputId": "22cc8d10-ae8b-4724-c072-7187796030e4",
        "colab": {
          "base_uri": "https://localhost:8080/"
        }
      },
      "execution_count": null,
      "outputs": [
        {
          "output_type": "stream",
          "name": "stdout",
          "text": [
            "Division by zero error.\n"
          ]
        }
      ]
    },
    {
      "cell_type": "code",
      "source": [
        "# 13 How would you check if a file exists before attempting to read it in Python?\n",
        "\n",
        "import os\n",
        "\n",
        "if os.path.exists(\"example.txt\"):\n",
        "    with open(\"example.txt\", \"r\") as file:\n",
        "        print(file.read())\n",
        "else:\n",
        "    print(\"File does not exist.\")\n"
      ],
      "metadata": {
        "id": "iGk-3ExQny_h",
        "outputId": "85dbce75-86b3-45d0-dab0-5684f9cce9af",
        "colab": {
          "base_uri": "https://localhost:8080/"
        }
      },
      "execution_count": null,
      "outputs": [
        {
          "output_type": "stream",
          "name": "stdout",
          "text": [
            "This is a test string.\n",
            "Appending new data.\n"
          ]
        }
      ]
    },
    {
      "cell_type": "code",
      "source": [
        "# 14 Write a program that uses the logging module to log both informational and error messages.\n",
        "\n",
        "import logging\n",
        "\n",
        "logging.basicConfig(filename=\"application.log\", level=logging.DEBUG)\n",
        "\n",
        "logging.info(\"This is an informational message.\")\n",
        "logging.error(\"This is an error message.\")\n"
      ],
      "metadata": {
        "id": "XW0t39AvnzCa",
        "outputId": "216c388f-75c1-4f06-8bf2-c2264a8fa843",
        "colab": {
          "base_uri": "https://localhost:8080/"
        }
      },
      "execution_count": null,
      "outputs": [
        {
          "output_type": "stream",
          "name": "stderr",
          "text": [
            "ERROR:root:This is an error message.\n"
          ]
        }
      ]
    },
    {
      "cell_type": "code",
      "source": [
        "#15  Write a Python program that prints the content of a file and handles the case when the file is empty.\n",
        "\n",
        "with open(\"example.txt\", \"r\") as file:\n",
        "    content = file.read()\n",
        "    if not content:\n",
        "        print(\"The file is empty.\")\n",
        "    else:\n",
        "        print(content)\n"
      ],
      "metadata": {
        "id": "xKfKL0DrpdBK",
        "outputId": "5169d9f0-1332-429f-8214-27e12eda4ea3",
        "colab": {
          "base_uri": "https://localhost:8080/"
        }
      },
      "execution_count": null,
      "outputs": [
        {
          "output_type": "stream",
          "name": "stdout",
          "text": [
            "This is a test string.\n",
            "Appending new data.\n"
          ]
        }
      ]
    },
    {
      "cell_type": "code",
      "source": [
        "# 16 Demonstrate how to use memory profiling to check the memory usage of a small program.\n",
        "\n",
        "from memory_profiler import profile\n",
        "\n",
        "@profile\n",
        "def example_function():\n",
        "    numbers = [i for i in range(100000)]\n",
        "    return numbers\n",
        "\n",
        "example_function()\n"
      ],
      "metadata": {
        "collapsed": true,
        "id": "KHyiVhTFpdMP",
        "outputId": "686280a2-26df-471d-fc46-ae9e4a42f157",
        "colab": {
          "base_uri": "https://localhost:8080/",
          "height": 393
        }
      },
      "execution_count": null,
      "outputs": [
        {
          "output_type": "error",
          "ename": "ModuleNotFoundError",
          "evalue": "No module named 'memory_profiler'",
          "traceback": [
            "\u001b[0;31m---------------------------------------------------------------------------\u001b[0m",
            "\u001b[0;31mModuleNotFoundError\u001b[0m                       Traceback (most recent call last)",
            "\u001b[0;32m<ipython-input-24-536719158de9>\u001b[0m in \u001b[0;36m<cell line: 3>\u001b[0;34m()\u001b[0m\n\u001b[1;32m      1\u001b[0m \u001b[0;31m# 16 Demonstrate how to use memory profiling to check the memory usage of a small program.\u001b[0m\u001b[0;34m\u001b[0m\u001b[0;34m\u001b[0m\u001b[0m\n\u001b[1;32m      2\u001b[0m \u001b[0;34m\u001b[0m\u001b[0m\n\u001b[0;32m----> 3\u001b[0;31m \u001b[0;32mfrom\u001b[0m \u001b[0mmemory_profiler\u001b[0m \u001b[0;32mimport\u001b[0m \u001b[0mprofile\u001b[0m\u001b[0;34m\u001b[0m\u001b[0;34m\u001b[0m\u001b[0m\n\u001b[0m\u001b[1;32m      4\u001b[0m \u001b[0;34m\u001b[0m\u001b[0m\n\u001b[1;32m      5\u001b[0m \u001b[0;34m@\u001b[0m\u001b[0mprofile\u001b[0m\u001b[0;34m\u001b[0m\u001b[0;34m\u001b[0m\u001b[0m\n",
            "\u001b[0;31mModuleNotFoundError\u001b[0m: No module named 'memory_profiler'",
            "",
            "\u001b[0;31m---------------------------------------------------------------------------\u001b[0;32m\nNOTE: If your import is failing due to a missing package, you can\nmanually install dependencies using either !pip or !apt.\n\nTo view examples of installing some common dependencies, click the\n\"Open Examples\" button below.\n\u001b[0;31m---------------------------------------------------------------------------\u001b[0m\n"
          ],
          "errorDetails": {
            "actions": [
              {
                "action": "open_url",
                "actionText": "Open Examples",
                "url": "/notebooks/snippets/importing_libraries.ipynb"
              }
            ]
          }
        }
      ]
    },
    {
      "cell_type": "code",
      "source": [
        "# 17 Write a Python program to create and write a list of numbers to a file, one number per line.\n",
        "\n",
        "numbers = [1, 2, 3, 4, 5]\n",
        "\n",
        "with open(\"numbers.txt\", \"w\") as file:\n",
        "    for number in numbers:\n",
        "        file.write(f\"{number}\\n\")\n"
      ],
      "metadata": {
        "id": "2EWF-rqNpdPO"
      },
      "execution_count": null,
      "outputs": []
    },
    {
      "cell_type": "code",
      "source": [
        "# 18 How would you implement a basic logging setup that logs to a file with rotation after 1MB?\n",
        "\n",
        "import logging\n",
        "from logging.handlers import RotatingFileHandler\n",
        "\n",
        "handler = RotatingFileHandler(\"app.log\", maxBytes=1024 * 1024, backupCount=3)\n",
        "logging.basicConfig(handlers=[handler], level=logging.INFO)\n",
        "\n",
        "logging.info(\"This is a log message.\")\n"
      ],
      "metadata": {
        "id": "jGKoPIhapdRj"
      },
      "execution_count": null,
      "outputs": []
    },
    {
      "cell_type": "code",
      "source": [
        "#19  Write a program that handles both IndexError and KeyError using a try-except block.\n",
        "\n",
        "try:\n",
        "    lst = [1, 2, 3][5]\n",
        "    data = {\"key1\": \"value1\"}[\"key2\"]\n",
        "except IndexError:\n",
        "    print(\"Index out of range.\")\n",
        "except KeyError:\n",
        "    print(\"Key does not exist.\")\n"
      ],
      "metadata": {
        "id": "ykSLVzLApdUK"
      },
      "execution_count": null,
      "outputs": []
    },
    {
      "cell_type": "code",
      "source": [
        "#20 How would you open a file and read its contents using a context manager in Python?\n",
        "\n",
        "with open(\"example.txt\", \"r\") as file:\n",
        "    print(file.read())\n"
      ],
      "metadata": {
        "id": "yy4SfZQZpdlh",
        "outputId": "a81bf2e2-e96a-4fda-f084-91c5f2f42725",
        "colab": {
          "base_uri": "https://localhost:8080/"
        }
      },
      "execution_count": null,
      "outputs": [
        {
          "output_type": "stream",
          "name": "stdout",
          "text": [
            "This is a test string.\n",
            "Appending new data.\n"
          ]
        }
      ]
    },
    {
      "cell_type": "code",
      "source": [
        "#21Write a Python program that reads a file and prints the number of occurrences of a specific word.\n",
        "\n",
        "word_to_count = \"test\"\n",
        "\n",
        "with open(\"example.txt\", \"r\") as file:\n",
        "    content = file.read()\n",
        "    count = content.lower().count(word_to_count)\n",
        "    print(f\"The word '{word_to_count}' occurs {count} times.\")\n"
      ],
      "metadata": {
        "id": "Qsnnr2fcpdpA",
        "outputId": "2fd4c52c-f061-45d0-8665-9914f709266d",
        "colab": {
          "base_uri": "https://localhost:8080/"
        }
      },
      "execution_count": null,
      "outputs": [
        {
          "output_type": "stream",
          "name": "stdout",
          "text": [
            "The word 'test' occurs 1 times.\n"
          ]
        }
      ]
    },
    {
      "cell_type": "code",
      "source": [
        "#22 How can you check if a file is empty before attempting to read its contents?\n",
        "\n",
        "import os\n",
        "\n",
        "if os.path.exists(\"example.txt\") and os.stat(\"example.txt\").st_size > 0:\n",
        "    with open(\"example.txt\", \"r\") as file:\n",
        "        print(file.read())\n",
        "else:\n",
        "    print(\"The file is empty or does not exist.\")\n"
      ],
      "metadata": {
        "id": "IUfZKn6CpdwU",
        "outputId": "efaed301-f17f-4ac5-ce0c-4f53c4c5e15b",
        "colab": {
          "base_uri": "https://localhost:8080/"
        }
      },
      "execution_count": null,
      "outputs": [
        {
          "output_type": "stream",
          "name": "stdout",
          "text": [
            "This is a test string.\n",
            "Appending new data.\n"
          ]
        }
      ]
    },
    {
      "cell_type": "code",
      "source": [
        "# 23 Write a Python program that writes to a log file when an error occurs during file handling.\n",
        "\n",
        "import logging\n",
        "\n",
        "logging.basicConfig(filename=\"file_errors.log\", level=logging.ERROR)\n",
        "\n",
        "try:\n",
        "    with open(\"nonexistent_file.txt\", \"r\") as file:\n",
        "        content = file.read()\n",
        "except FileNotFoundError:\n",
        "    logging.error(\"File not found error occurred.\")\n"
      ],
      "metadata": {
        "id": "mBuJSKXepd0e",
        "outputId": "537abada-a195-4255-f402-0993e93e8657",
        "colab": {
          "base_uri": "https://localhost:8080/"
        }
      },
      "execution_count": null,
      "outputs": [
        {
          "output_type": "stream",
          "name": "stderr",
          "text": [
            "ERROR:root:File not found error occurred.\n"
          ]
        }
      ]
    },
    {
      "cell_type": "code",
      "source": [],
      "metadata": {
        "id": "uEHBOxBapd4q"
      },
      "execution_count": null,
      "outputs": []
    }
  ],
  "metadata": {
    "colab": {
      "toc_visible": true,
      "provenance": []
    },
    "kernelspec": {
      "display_name": "Python 3",
      "name": "python3"
    }
  },
  "nbformat": 4,
  "nbformat_minor": 0
}